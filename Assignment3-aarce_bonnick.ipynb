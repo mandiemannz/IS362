{
 "cells": [
  {
   "cell_type": "markdown",
   "metadata": {},
   "source": [
    "Assignment 3\n",
    "\n",
    "Suppose you have ridden a bicycle from New York City to Key West, Florida.  Your bicycle odometer shows the total miles, which you have dutifully logged at the end of each day with paper and pencil.  Your first two entries might be 55 and 120, indicating that you rode your bike 55 miles on day 1 and 65 miles on day 2.  Your task is to create a pandas Series object that holds the cumulative miles at the end of each day, then use your Python skills to show the total miles that you rode each day.  \n"
   ]
  },
  {
   "cell_type": "code",
   "execution_count": 6,
   "metadata": {
    "collapsed": true
   },
   "outputs": [],
   "source": [
    "import pandas as pd"
   ]
  },
  {
   "cell_type": "code",
   "execution_count": 7,
   "metadata": {
    "collapsed": false
   },
   "outputs": [
    {
     "name": "stdout",
     "output_type": "stream",
     "text": [
      "Odometer Readings Entered:\n",
      "[55, 120, 170, 220, 270, 290]\n"
     ]
    }
   ],
   "source": [
    "odo_readings = [55 , 120 , 170 , 220 , 270 , 290 ] # insert the odometer readings here which was recorded via pen paper\n",
    "print (\"Odometer Readings Entered:\")\n",
    "print (odo_readings)"
   ]
  },
  {
   "cell_type": "code",
   "execution_count": 8,
   "metadata": {
    "collapsed": true
   },
   "outputs": [],
   "source": [
    "#making a pandas series by taking elements of the list odo_readings\n",
    "pd_series = pd.Series(odo_readings)\n",
    "\n",
    "#making a temporary series to check whether the odoemeter readings are logical as the readings should be non-decreasing\n",
    "pd_temp = pd_series.sort_values()   "
   ]
  },
  {
   "cell_type": "code",
   "execution_count": 11,
   "metadata": {
    "collapsed": false
   },
   "outputs": [
    {
     "name": "stdout",
     "output_type": "stream",
     "text": [
      "Following are the daily miles rode by the cycler:\n",
      "Day 1:  55\n",
      "Day 2:  65\n",
      "Day 3:  50\n",
      "Day 4:  50\n",
      "Day 5:  50\n",
      "Day 6:  20\n"
     ]
    }
   ],
   "source": [
    "if pd.Series.equals(pd_temp,pd_series) == False:          # checking whether the odometer reading inserted are logical\n",
    "    print (\"Please check the odometer readings as any reading cant be smaller than the previous one\")\n",
    "    print (pd_series)\n",
    "\n",
    "else:\n",
    "    miles_rode_series = pd.Series()                           # making a series for storing the daily miles rode\n",
    "    print (\"Following are the daily miles rode by the cycler:\")\n",
    "    for i in range(pd_series.shape[0]):\n",
    "        if i == 0:                       # day 1 miles rode will same as odometer readings at the end of the day 1\n",
    "            miles_rode = pd_series[i]\n",
    "        else:\n",
    "            miles_rode = pd_series[i] - pd_series[i-1]\n",
    "        print (\"Day \"+ str(i+1) + \": \" , miles_rode)\n",
    "        day = \"Day \" + str(i+1)\n",
    "        miles_rode_series = miles_rode_series.set_value(day,miles_rode)"
   ]
  },
  {
   "cell_type": "code",
   "execution_count": 12,
   "metadata": {
    "collapsed": false
   },
   "outputs": [
    {
     "name": "stdout",
     "output_type": "stream",
     "text": [
      "Daily Miles rode using as stored in the pandas series:\n",
      "Day 1    55\n",
      "Day 2    65\n",
      "Day 3    50\n",
      "Day 4    50\n",
      "Day 5    50\n",
      "Day 6    20\n",
      "dtype: int64\n"
     ]
    }
   ],
   "source": [
    "print (\"Daily Miles rode using as stored in the pandas series:\")\n",
    "print (miles_rode_series)"
   ]
  }
 ],
 "metadata": {
  "anaconda-cloud": {},
  "kernelspec": {
   "display_name": "Python [conda root]",
   "language": "python",
   "name": "conda-root-py"
  },
  "language_info": {
   "codemirror_mode": {
    "name": "ipython",
    "version": 3
   },
   "file_extension": ".py",
   "mimetype": "text/x-python",
   "name": "python",
   "nbconvert_exporter": "python",
   "pygments_lexer": "ipython3",
   "version": "3.5.2"
  }
 },
 "nbformat": 4,
 "nbformat_minor": 1
}
