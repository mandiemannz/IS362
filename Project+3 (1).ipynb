{
 "cells": [
  {
   "cell_type": "markdown",
   "metadata": {},
   "source": [
    "# PROJECT 3-Importing Chinook into Pandas and generating a table from the Data. "
   ]
  },
  {
   "cell_type": "code",
   "execution_count": 18,
   "metadata": {
    "collapsed": true
   },
   "outputs": [],
   "source": [
    "\n",
    "import  pandas as pd\n",
    "import sqlite3"
   ]
  },
  {
   "cell_type": "code",
   "execution_count": null,
   "metadata": {
    "collapsed": true
   },
   "outputs": [],
   "source": [
    "#Connect to the Chinook database and write join statements that makes a new table.  "
   ]
  },
  {
   "cell_type": "code",
   "execution_count": 46,
   "metadata": {
    "collapsed": false
   },
   "outputs": [
    {
     "data": {
      "text/html": [
       "<div>\n",
       "<table border=\"1\" class=\"dataframe\">\n",
       "  <thead>\n",
       "    <tr style=\"text-align: right;\">\n",
       "      <th></th>\n",
       "      <th>LastName</th>\n",
       "      <th>FirstName</th>\n",
       "      <th>Name</th>\n",
       "      <th>Title</th>\n",
       "    </tr>\n",
       "  </thead>\n",
       "  <tbody>\n",
       "    <tr>\n",
       "      <th>0</th>\n",
       "      <td>Almeida</td>\n",
       "      <td>Roberto</td>\n",
       "      <td>Amor De Muito</td>\n",
       "      <td>Afrociberdelia</td>\n",
       "    </tr>\n",
       "    <tr>\n",
       "      <th>1</th>\n",
       "      <td>Almeida</td>\n",
       "      <td>Roberto</td>\n",
       "      <td>Aos Leões</td>\n",
       "      <td>Demorou...</td>\n",
       "    </tr>\n",
       "    <tr>\n",
       "      <th>2</th>\n",
       "      <td>Almeida</td>\n",
       "      <td>Roberto</td>\n",
       "      <td>Banditismo Por Uma Questa</td>\n",
       "      <td>Da Lama Ao Caos</td>\n",
       "    </tr>\n",
       "    <tr>\n",
       "      <th>3</th>\n",
       "      <td>Almeida</td>\n",
       "      <td>Roberto</td>\n",
       "      <td>Be Good Johnny</td>\n",
       "      <td>The Best Of Men At Work</td>\n",
       "    </tr>\n",
       "    <tr>\n",
       "      <th>4</th>\n",
       "      <td>Almeida</td>\n",
       "      <td>Roberto</td>\n",
       "      <td>Burden In My Hand</td>\n",
       "      <td>A-Sides</td>\n",
       "    </tr>\n",
       "  </tbody>\n",
       "</table>\n",
       "</div>"
      ],
      "text/plain": [
       "  LastName FirstName                       Name                    Title\n",
       "0  Almeida   Roberto              Amor De Muito           Afrociberdelia\n",
       "1  Almeida   Roberto                  Aos Leões               Demorou...\n",
       "2  Almeida   Roberto  Banditismo Por Uma Questa          Da Lama Ao Caos\n",
       "3  Almeida   Roberto             Be Good Johnny  The Best Of Men At Work\n",
       "4  Almeida   Roberto          Burden In My Hand                  A-Sides"
      ]
     },
     "execution_count": 46,
     "metadata": {},
     "output_type": "execute_result"
    }
   ],
   "source": [
    "with sqlite3.connect(\"C:\\\\Users\\\\Trissy\\\\Downloads\\\\ChinookDatabase1.4_CompleteVersion\\\\Chinook_Sqlite.sqlite\") as con:\n",
    "    sql ='''\n",
    "\n",
    "SELECT Customer.Lastname, Customer.FirstName, Track.name, Album.title\n",
    "\n",
    "FROM Customer\n",
    "    JOIN INVOICE\n",
    "        ON Customer.CustomerId = Invoice.CustomerId\n",
    "    JOIN InvoiceLine\n",
    "        ON Invoice.InvoiceId = InvoiceLine.InvoiceId\n",
    "    JOIN Track\n",
    "        ON InvoiceLine.TrackId = Track.TrackId\n",
    "    JOIN ALBUM\n",
    "        ON Track.AlbumId = Album.AlbumId\n",
    "ORDER BY Customer.LastName, Customer.FirstName, Track.name, Album.title'''\n",
    "df = pd.read_sql_query(sql, con)\n",
    "df.head()"
   ]
  },
  {
   "cell_type": "code",
   "execution_count": null,
   "metadata": {
    "collapsed": true
   },
   "outputs": [],
   "source": []
  }
 ],
 "metadata": {
  "anaconda-cloud": {},
  "kernelspec": {
   "display_name": "Python [default]",
   "language": "python",
   "name": "python3"
  },
  "language_info": {
   "codemirror_mode": {
    "name": "ipython",
    "version": 3
   },
   "file_extension": ".py",
   "mimetype": "text/x-python",
   "name": "python",
   "nbconvert_exporter": "python",
   "pygments_lexer": "ipython3",
   "version": "3.5.2"
  }
 },
 "nbformat": 4,
 "nbformat_minor": 1
}
