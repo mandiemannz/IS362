{
 "cells": [
  {
   "cell_type": "markdown",
   "metadata": {},
   "source": [
    "# NetFlix Recommendation System\n",
    "\n",
    "\n",
    "By: Amanda Arce & Tresanne Bonnick\n",
    "\n",
    "\n",
    "Perform a Scenario Design analysis as described below.  Consider whether it makes sense for your selected recommender system to perform scenario design twice, once for the organization (e.g. Amazon.com) and once for the organization's customers.\n",
    "\n",
    "Attempt to reverse engineer what you can about the site, from the site interface and any available information that you can find on the Internet or elsewhere.\n",
    "\n",
    "Include specific recommendations about how to improve the site's recommendation capabilities going forward. \n",
    "\n",
    "Create your report using a Jupyter notebook, and create a discussion thread with a link to the GitHub repo where your Jupyter Notebook resides.  You are not expected to need to write code for this discussion assignment."
   ]
  },
  {
   "cell_type": "markdown",
   "metadata": {},
   "source": [
    "# Scenario Design Analysis \n",
    "\n",
    "Who are your target users?\n",
    "\n",
    "- Netflix users range from much different age ranges globally. The interesting aspect with Netflix is its recommendation system. \n",
    "\n",
    "Here are two examples:\n",
    "\n",
    "Netflix generates movies, television shows, and documentaries bases off what is popular on social media, for instance, Facebook has a column in Netflix dedicated to what the users likes on Facebook.\n",
    "\n",
    "Another interesting fact is Netflix goes based off where the users reside. An example would be users from the United States see suggestions for horror, action, and comedy flicks based off what the users in North American liked to watch. Therefore, to sum up who the target users are, it concludes that many of the users are from all age ranges and all walks of life.\n",
    "\n",
    "(https://www.theverge.com/2016/2/17/11030200/netflix-new-recommendation-system-global-regional)\n",
    "\n",
    "What are their key goals?\n",
    "\n",
    "- The key goal is for Netflix to continue to provide the users with the most relevant options which are popular throughout the world, and for Netflix to have their user subscribe monthly and counties to keep the recommendations flowing to keep their business active globally. \n",
    "\n",
    "\n",
    "How can you help them accomplish those goals?\n",
    "\n",
    "- When a user “thumbs up” or “thumbs down” a show or movies it helps Netflix reach their goal of broadening the users’ recommendation selection, and generates additional selections for the featured shows and movies or their choice. By “thumbing now”, the Netflix system will exclude those movies and shows you dislike.\n"
   ]
  },
  {
   "cell_type": "markdown",
   "metadata": {
    "collapsed": true
   },
   "source": [
    "# Include specific recommendations about how to improve the site's recommendation capabilities going forward.\n",
    "\n",
    "- Adding an option to hide movies and TV series if the user don't want to see them again. This may help with quality recommendation for that particular user. \n",
    "\n",
    "- Connecting Netflix to a social media network such as Facebook and being able to rate movies you like on Facebook. Netflix can then sync your movie likes with the recommendation system.\n"
   ]
  },
  {
   "cell_type": "markdown",
   "metadata": {
    "collapsed": true
   },
   "source": [
    "# Attempt to reverse engineer what you can about the site. \n",
    "\n",
    "- A new user gives a list of their movie and tv show preferences and connect netflix to their social media. \n",
    "- The data that was given in addition to the social media data helps Netflix algorithms to choose better recommendations for the user.\n",
    "- The recommendation system continues to be more accurate the longer the user uses Netflix. \n",
    " \n",
    "\n"
   ]
  },
  {
   "cell_type": "markdown",
   "metadata": {},
   "source": [
    "# Scenario Design\n",
    "\n",
    "- No I don't think it makes sense to do scenario design twice. As long as the recommendation system is being updated in real time, the suggestions should be accurate. "
   ]
  },
  {
   "cell_type": "code",
   "execution_count": null,
   "metadata": {
    "collapsed": true
   },
   "outputs": [],
   "source": []
  }
 ],
 "metadata": {
  "anaconda-cloud": {},
  "kernelspec": {
   "display_name": "Python [conda root]",
   "language": "python",
   "name": "conda-root-py"
  },
  "language_info": {
   "codemirror_mode": {
    "name": "ipython",
    "version": 3
   },
   "file_extension": ".py",
   "mimetype": "text/x-python",
   "name": "python",
   "nbconvert_exporter": "python",
   "pygments_lexer": "ipython3",
   "version": "3.5.2"
  }
 },
 "nbformat": 4,
 "nbformat_minor": 1
}
