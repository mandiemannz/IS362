{
 "cells": [
  {
   "cell_type": "markdown",
   "metadata": {},
   "source": [
    "                                 Week 7- Movies\n",
    "\n",
    "                            Amanda Arce & Tresanne Bonnick"
   ]
  },
  {
   "cell_type": "code",
   "execution_count": 1,
   "metadata": {
    "collapsed": true,
    "deletable": true,
    "editable": true
   },
   "outputs": [],
   "source": [
    "import pandas as pd\n",
    "import numpy as np\n",
    "import sys\n",
    "from pandas import DataFrame"
   ]
  },
  {
   "cell_type": "code",
   "execution_count": 2,
   "metadata": {
    "collapsed": false,
    "deletable": true,
    "editable": true,
    "scrolled": true
   },
   "outputs": [
    {
     "data": {
      "text/html": [
       "<div>\n",
       "<table border=\"1\" class=\"dataframe\">\n",
       "  <thead>\n",
       "    <tr style=\"text-align: right;\">\n",
       "      <th></th>\n",
       "      <th>Get Out</th>\n",
       "      <th>Logan</th>\n",
       "      <th>Fifty Shades Darker</th>\n",
       "      <th>A Dog's Purpose</th>\n",
       "      <th>Moonlight</th>\n",
       "      <th>Fences</th>\n",
       "    </tr>\n",
       "    <tr>\n",
       "      <th>Names</th>\n",
       "      <th></th>\n",
       "      <th></th>\n",
       "      <th></th>\n",
       "      <th></th>\n",
       "      <th></th>\n",
       "      <th></th>\n",
       "    </tr>\n",
       "  </thead>\n",
       "  <tbody>\n",
       "    <tr>\n",
       "      <th>John</th>\n",
       "      <td>8.0</td>\n",
       "      <td>6.0</td>\n",
       "      <td>5.0</td>\n",
       "      <td>NaN</td>\n",
       "      <td>7.0</td>\n",
       "      <td>6.0</td>\n",
       "    </tr>\n",
       "    <tr>\n",
       "      <th>Angie</th>\n",
       "      <td>NaN</td>\n",
       "      <td>5.0</td>\n",
       "      <td>8.0</td>\n",
       "      <td>5.0</td>\n",
       "      <td>NaN</td>\n",
       "      <td>NaN</td>\n",
       "    </tr>\n",
       "    <tr>\n",
       "      <th>Terry</th>\n",
       "      <td>6.0</td>\n",
       "      <td>NaN</td>\n",
       "      <td>7.0</td>\n",
       "      <td>8.0</td>\n",
       "      <td>4.0</td>\n",
       "      <td>NaN</td>\n",
       "    </tr>\n",
       "    <tr>\n",
       "      <th>Sophie</th>\n",
       "      <td>8.0</td>\n",
       "      <td>7.0</td>\n",
       "      <td>NaN</td>\n",
       "      <td>6.0</td>\n",
       "      <td>NaN</td>\n",
       "      <td>7.0</td>\n",
       "    </tr>\n",
       "    <tr>\n",
       "      <th>Mark</th>\n",
       "      <td>8.0</td>\n",
       "      <td>7.0</td>\n",
       "      <td>4.0</td>\n",
       "      <td>6.0</td>\n",
       "      <td>6.0</td>\n",
       "      <td>7.0</td>\n",
       "    </tr>\n",
       "  </tbody>\n",
       "</table>\n",
       "</div>"
      ],
      "text/plain": [
       "        Get Out  Logan  Fifty Shades Darker  A Dog's Purpose  Moonlight  \\\n",
       "Names                                                                     \n",
       "John        8.0    6.0                  5.0              NaN        7.0   \n",
       "Angie       NaN    5.0                  8.0              5.0        NaN   \n",
       "Terry       6.0    NaN                  7.0              8.0        4.0   \n",
       "Sophie      8.0    7.0                  NaN              6.0        NaN   \n",
       "Mark        8.0    7.0                  4.0              6.0        6.0   \n",
       "\n",
       "        Fences  \n",
       "Names           \n",
       "John       6.0  \n",
       "Angie      NaN  \n",
       "Terry      NaN  \n",
       "Sophie     7.0  \n",
       "Mark       7.0  "
      ]
     },
     "execution_count": 2,
     "metadata": {},
     "output_type": "execute_result"
    }
   ],
   "source": [
    "movies = pd.read_csv('https://raw.githubusercontent.com/mandiemannz/Movies1/master/Assignment%207.csv', index_col=0)\n",
    "movies"
   ]
  },
  {
   "cell_type": "code",
   "execution_count": 3,
   "metadata": {
    "collapsed": false
   },
   "outputs": [
    {
     "name": "stdout",
     "output_type": "stream",
     "text": [
      "<class 'pandas.core.frame.DataFrame'>\n",
      "Index: 5 entries, John to Mark\n",
      "Data columns (total 6 columns):\n",
      "Get Out                4 non-null float64\n",
      "Logan                  4 non-null float64\n",
      "Fifty Shades Darker    4 non-null float64\n",
      "A Dog's Purpose        4 non-null float64\n",
      "Moonlight              3 non-null float64\n",
      "Fences                 3 non-null float64\n",
      "dtypes: float64(6)\n",
      "memory usage: 280.0+ bytes\n"
     ]
    }
   ],
   "source": [
    "movies.info()"
   ]
  },
  {
   "cell_type": "code",
   "execution_count": 4,
   "metadata": {
    "collapsed": false,
    "deletable": true,
    "editable": true
   },
   "outputs": [],
   "source": [
    "# Fill NaN values with 0\n",
    "moviesfilled= movies.fillna(0)"
   ]
  },
  {
   "cell_type": "code",
   "execution_count": 5,
   "metadata": {
    "collapsed": false,
    "deletable": true,
    "editable": true
   },
   "outputs": [
    {
     "data": {
      "text/html": [
       "<div>\n",
       "<table border=\"1\" class=\"dataframe\">\n",
       "  <thead>\n",
       "    <tr style=\"text-align: right;\">\n",
       "      <th></th>\n",
       "      <th>Get Out</th>\n",
       "      <th>Logan</th>\n",
       "      <th>Fifty Shades Darker</th>\n",
       "      <th>A Dog's Purpose</th>\n",
       "      <th>Moonlight</th>\n",
       "      <th>Fences</th>\n",
       "    </tr>\n",
       "    <tr>\n",
       "      <th>Names</th>\n",
       "      <th></th>\n",
       "      <th></th>\n",
       "      <th></th>\n",
       "      <th></th>\n",
       "      <th></th>\n",
       "      <th></th>\n",
       "    </tr>\n",
       "  </thead>\n",
       "  <tbody>\n",
       "    <tr>\n",
       "      <th>John</th>\n",
       "      <td>False</td>\n",
       "      <td>False</td>\n",
       "      <td>False</td>\n",
       "      <td>False</td>\n",
       "      <td>False</td>\n",
       "      <td>False</td>\n",
       "    </tr>\n",
       "    <tr>\n",
       "      <th>Angie</th>\n",
       "      <td>False</td>\n",
       "      <td>False</td>\n",
       "      <td>False</td>\n",
       "      <td>False</td>\n",
       "      <td>False</td>\n",
       "      <td>False</td>\n",
       "    </tr>\n",
       "    <tr>\n",
       "      <th>Terry</th>\n",
       "      <td>False</td>\n",
       "      <td>False</td>\n",
       "      <td>False</td>\n",
       "      <td>False</td>\n",
       "      <td>False</td>\n",
       "      <td>False</td>\n",
       "    </tr>\n",
       "    <tr>\n",
       "      <th>Sophie</th>\n",
       "      <td>False</td>\n",
       "      <td>False</td>\n",
       "      <td>False</td>\n",
       "      <td>False</td>\n",
       "      <td>False</td>\n",
       "      <td>False</td>\n",
       "    </tr>\n",
       "    <tr>\n",
       "      <th>Mark</th>\n",
       "      <td>False</td>\n",
       "      <td>False</td>\n",
       "      <td>False</td>\n",
       "      <td>False</td>\n",
       "      <td>False</td>\n",
       "      <td>False</td>\n",
       "    </tr>\n",
       "  </tbody>\n",
       "</table>\n",
       "</div>"
      ],
      "text/plain": [
       "       Get Out  Logan Fifty Shades Darker A Dog's Purpose Moonlight Fences\n",
       "Names                                                                     \n",
       "John     False  False               False           False     False  False\n",
       "Angie    False  False               False           False     False  False\n",
       "Terry    False  False               False           False     False  False\n",
       "Sophie   False  False               False           False     False  False\n",
       "Mark     False  False               False           False     False  False"
      ]
     },
     "execution_count": 5,
     "metadata": {},
     "output_type": "execute_result"
    }
   ],
   "source": [
    "moviesfilled.isnull()"
   ]
  },
  {
   "cell_type": "code",
   "execution_count": 6,
   "metadata": {
    "collapsed": false,
    "deletable": true,
    "editable": true
   },
   "outputs": [
    {
     "data": {
      "text/plain": [
       "Get Out                8.0\n",
       "Logan                  7.0\n",
       "Fifty Shades Darker    8.0\n",
       "A Dog's Purpose        8.0\n",
       "Moonlight              7.0\n",
       "Fences                 7.0\n",
       "dtype: float64"
      ]
     },
     "execution_count": 6,
     "metadata": {},
     "output_type": "execute_result"
    }
   ],
   "source": [
    "moviesfilled.max()"
   ]
  },
  {
   "cell_type": "markdown",
   "metadata": {
    "deletable": true,
    "editable": true
   },
   "source": [
    "# Question 1 - Show the average ratings for each user and each movie"
   ]
  },
  {
   "cell_type": "markdown",
   "metadata": {},
   "source": [
    "### Average ratings for each movie. "
   ]
  },
  {
   "cell_type": "code",
   "execution_count": 7,
   "metadata": {
    "collapsed": false,
    "deletable": true,
    "editable": true
   },
   "outputs": [
    {
     "data": {
      "text/plain": [
       "Get Out                6.0\n",
       "Logan                  5.0\n",
       "Fifty Shades Darker    4.8\n",
       "A Dog's Purpose        5.0\n",
       "Moonlight              3.4\n",
       "Fences                 4.0\n",
       "dtype: float64"
      ]
     },
     "execution_count": 7,
     "metadata": {},
     "output_type": "execute_result"
    }
   ],
   "source": [
    "movie_avg = moviesfilled.mean(axis=0)\n",
    "movie_avg"
   ]
  },
  {
   "cell_type": "markdown",
   "metadata": {},
   "source": [
    "### Average ratings per user"
   ]
  },
  {
   "cell_type": "code",
   "execution_count": 8,
   "metadata": {
    "collapsed": false,
    "deletable": true,
    "editable": true
   },
   "outputs": [
    {
     "data": {
      "text/plain": [
       "Names\n",
       "John      5.333333\n",
       "Angie     3.000000\n",
       "Terry     4.166667\n",
       "Sophie    4.666667\n",
       "Mark      6.333333\n",
       "dtype: float64"
      ]
     },
     "execution_count": 8,
     "metadata": {},
     "output_type": "execute_result"
    }
   ],
   "source": [
    "user_avg = moviesfilled.mean(axis=1)\n",
    "user_avg"
   ]
  },
  {
   "cell_type": "code",
   "execution_count": 9,
   "metadata": {
    "collapsed": false,
    "deletable": true,
    "editable": true
   },
   "outputs": [
    {
     "data": {
      "text/html": [
       "<div>\n",
       "<table border=\"1\" class=\"dataframe\">\n",
       "  <thead>\n",
       "    <tr style=\"text-align: right;\">\n",
       "      <th></th>\n",
       "      <th>Get Out</th>\n",
       "      <th>Logan</th>\n",
       "      <th>Fifty Shades Darker</th>\n",
       "      <th>A Dog's Purpose</th>\n",
       "      <th>Moonlight</th>\n",
       "      <th>Fences</th>\n",
       "    </tr>\n",
       "  </thead>\n",
       "  <tbody>\n",
       "    <tr>\n",
       "      <th>count</th>\n",
       "      <td>5.000000</td>\n",
       "      <td>5.000000</td>\n",
       "      <td>5.000000</td>\n",
       "      <td>5.0</td>\n",
       "      <td>5.000000</td>\n",
       "      <td>5.000000</td>\n",
       "    </tr>\n",
       "    <tr>\n",
       "      <th>mean</th>\n",
       "      <td>6.000000</td>\n",
       "      <td>5.000000</td>\n",
       "      <td>4.800000</td>\n",
       "      <td>5.0</td>\n",
       "      <td>3.400000</td>\n",
       "      <td>4.000000</td>\n",
       "    </tr>\n",
       "    <tr>\n",
       "      <th>std</th>\n",
       "      <td>3.464102</td>\n",
       "      <td>2.915476</td>\n",
       "      <td>3.114482</td>\n",
       "      <td>3.0</td>\n",
       "      <td>3.286335</td>\n",
       "      <td>3.674235</td>\n",
       "    </tr>\n",
       "    <tr>\n",
       "      <th>min</th>\n",
       "      <td>0.000000</td>\n",
       "      <td>0.000000</td>\n",
       "      <td>0.000000</td>\n",
       "      <td>0.0</td>\n",
       "      <td>0.000000</td>\n",
       "      <td>0.000000</td>\n",
       "    </tr>\n",
       "    <tr>\n",
       "      <th>25%</th>\n",
       "      <td>6.000000</td>\n",
       "      <td>5.000000</td>\n",
       "      <td>4.000000</td>\n",
       "      <td>5.0</td>\n",
       "      <td>0.000000</td>\n",
       "      <td>0.000000</td>\n",
       "    </tr>\n",
       "    <tr>\n",
       "      <th>50%</th>\n",
       "      <td>8.000000</td>\n",
       "      <td>6.000000</td>\n",
       "      <td>5.000000</td>\n",
       "      <td>6.0</td>\n",
       "      <td>4.000000</td>\n",
       "      <td>6.000000</td>\n",
       "    </tr>\n",
       "    <tr>\n",
       "      <th>75%</th>\n",
       "      <td>8.000000</td>\n",
       "      <td>7.000000</td>\n",
       "      <td>7.000000</td>\n",
       "      <td>6.0</td>\n",
       "      <td>6.000000</td>\n",
       "      <td>7.000000</td>\n",
       "    </tr>\n",
       "    <tr>\n",
       "      <th>max</th>\n",
       "      <td>8.000000</td>\n",
       "      <td>7.000000</td>\n",
       "      <td>8.000000</td>\n",
       "      <td>8.0</td>\n",
       "      <td>7.000000</td>\n",
       "      <td>7.000000</td>\n",
       "    </tr>\n",
       "  </tbody>\n",
       "</table>\n",
       "</div>"
      ],
      "text/plain": [
       "        Get Out     Logan  Fifty Shades Darker  A Dog's Purpose  Moonlight  \\\n",
       "count  5.000000  5.000000             5.000000              5.0   5.000000   \n",
       "mean   6.000000  5.000000             4.800000              5.0   3.400000   \n",
       "std    3.464102  2.915476             3.114482              3.0   3.286335   \n",
       "min    0.000000  0.000000             0.000000              0.0   0.000000   \n",
       "25%    6.000000  5.000000             4.000000              5.0   0.000000   \n",
       "50%    8.000000  6.000000             5.000000              6.0   4.000000   \n",
       "75%    8.000000  7.000000             7.000000              6.0   6.000000   \n",
       "max    8.000000  7.000000             8.000000              8.0   7.000000   \n",
       "\n",
       "         Fences  \n",
       "count  5.000000  \n",
       "mean   4.000000  \n",
       "std    3.674235  \n",
       "min    0.000000  \n",
       "25%    0.000000  \n",
       "50%    6.000000  \n",
       "75%    7.000000  \n",
       "max    7.000000  "
      ]
     },
     "execution_count": 9,
     "metadata": {},
     "output_type": "execute_result"
    }
   ],
   "source": [
    "#Showing all the statistics for our movies dataframe.\n",
    "moviesfilled.describe()"
   ]
  },
  {
   "cell_type": "markdown",
   "metadata": {
    "deletable": true,
    "editable": true
   },
   "source": [
    "# Question 2 - Create a new pandas dataframe, with normalized ratings for each user."
   ]
  },
  {
   "cell_type": "code",
   "execution_count": 10,
   "metadata": {
    "collapsed": false,
    "deletable": true,
    "editable": true
   },
   "outputs": [
    {
     "data": {
      "text/html": [
       "<div>\n",
       "<table border=\"1\" class=\"dataframe\">\n",
       "  <thead>\n",
       "    <tr style=\"text-align: right;\">\n",
       "      <th></th>\n",
       "      <th>Get Out</th>\n",
       "      <th>Logan</th>\n",
       "      <th>Fifty Shades Darker</th>\n",
       "      <th>A Dog's Purpose</th>\n",
       "      <th>Moonlight</th>\n",
       "      <th>Fences</th>\n",
       "    </tr>\n",
       "    <tr>\n",
       "      <th>Names</th>\n",
       "      <th></th>\n",
       "      <th></th>\n",
       "      <th></th>\n",
       "      <th></th>\n",
       "      <th></th>\n",
       "      <th></th>\n",
       "    </tr>\n",
       "  </thead>\n",
       "  <tbody>\n",
       "    <tr>\n",
       "      <th>John</th>\n",
       "      <td>0.25</td>\n",
       "      <td>0.142857</td>\n",
       "      <td>0.025</td>\n",
       "      <td>-0.625</td>\n",
       "      <td>0.514286</td>\n",
       "      <td>0.285714</td>\n",
       "    </tr>\n",
       "    <tr>\n",
       "      <th>Angie</th>\n",
       "      <td>-0.75</td>\n",
       "      <td>0.000000</td>\n",
       "      <td>0.400</td>\n",
       "      <td>0.000</td>\n",
       "      <td>-0.485714</td>\n",
       "      <td>-0.571429</td>\n",
       "    </tr>\n",
       "    <tr>\n",
       "      <th>Terry</th>\n",
       "      <td>0.00</td>\n",
       "      <td>-0.714286</td>\n",
       "      <td>0.275</td>\n",
       "      <td>0.375</td>\n",
       "      <td>0.085714</td>\n",
       "      <td>-0.571429</td>\n",
       "    </tr>\n",
       "    <tr>\n",
       "      <th>Sophie</th>\n",
       "      <td>0.25</td>\n",
       "      <td>0.285714</td>\n",
       "      <td>-0.600</td>\n",
       "      <td>0.125</td>\n",
       "      <td>-0.485714</td>\n",
       "      <td>0.428571</td>\n",
       "    </tr>\n",
       "    <tr>\n",
       "      <th>Mark</th>\n",
       "      <td>0.25</td>\n",
       "      <td>0.285714</td>\n",
       "      <td>-0.100</td>\n",
       "      <td>0.125</td>\n",
       "      <td>0.371429</td>\n",
       "      <td>0.428571</td>\n",
       "    </tr>\n",
       "  </tbody>\n",
       "</table>\n",
       "</div>"
      ],
      "text/plain": [
       "        Get Out     Logan  Fifty Shades Darker  A Dog's Purpose  Moonlight  \\\n",
       "Names                                                                        \n",
       "John       0.25  0.142857                0.025           -0.625   0.514286   \n",
       "Angie     -0.75  0.000000                0.400            0.000  -0.485714   \n",
       "Terry      0.00 -0.714286                0.275            0.375   0.085714   \n",
       "Sophie     0.25  0.285714               -0.600            0.125  -0.485714   \n",
       "Mark       0.25  0.285714               -0.100            0.125   0.371429   \n",
       "\n",
       "          Fences  \n",
       "Names             \n",
       "John    0.285714  \n",
       "Angie  -0.571429  \n",
       "Terry  -0.571429  \n",
       "Sophie  0.428571  \n",
       "Mark    0.428571  "
      ]
     },
     "execution_count": 10,
     "metadata": {},
     "output_type": "execute_result"
    }
   ],
   "source": [
    "movie_norm = (moviesfilled - moviesfilled.mean()) / (moviesfilled.max() - moviesfilled.min())\n",
    "movie_norm"
   ]
  },
  {
   "cell_type": "markdown",
   "metadata": {
    "deletable": true,
    "editable": true
   },
   "source": [
    " #Show the average ratings for each user and each movie."
   ]
  },
  {
   "cell_type": "markdown",
   "metadata": {},
   "source": [
    "### Average rating for each movie"
   ]
  },
  {
   "cell_type": "code",
   "execution_count": 11,
   "metadata": {
    "collapsed": false,
    "deletable": true,
    "editable": true
   },
   "outputs": [
    {
     "data": {
      "text/plain": [
       "Get Out                0.000000e+00\n",
       "Logan                  0.000000e+00\n",
       "Fifty Shades Darker    2.220446e-17\n",
       "A Dog's Purpose        0.000000e+00\n",
       "Moonlight              2.220446e-17\n",
       "Fences                 0.000000e+00\n",
       "dtype: float64"
      ]
     },
     "execution_count": 11,
     "metadata": {},
     "output_type": "execute_result"
    }
   ],
   "source": [
    "movie_norm.mean(axis=0)"
   ]
  },
  {
   "cell_type": "markdown",
   "metadata": {},
   "source": [
    "### Average rating by each user"
   ]
  },
  {
   "cell_type": "code",
   "execution_count": 12,
   "metadata": {
    "collapsed": false
   },
   "outputs": [
    {
     "data": {
      "text/plain": [
       "Names\n",
       "John      0.098810\n",
       "Angie    -0.234524\n",
       "Terry    -0.091667\n",
       "Sophie    0.000595\n",
       "Mark      0.226786\n",
       "dtype: float64"
      ]
     },
     "execution_count": 12,
     "metadata": {},
     "output_type": "execute_result"
    }
   ],
   "source": [
    "movie_norm.mean(axis=1)"
   ]
  },
  {
   "cell_type": "markdown",
   "metadata": {
    "collapsed": false,
    "deletable": true,
    "editable": true
   },
   "source": [
    "What might be the advantages and disadvantages of using normalized ratings instead of the actual ratings?"
   ]
  },
  {
   "cell_type": "code",
   "execution_count": null,
   "metadata": {
    "collapsed": true,
    "deletable": true,
    "editable": true
   },
   "outputs": [],
   "source": []
  },
  {
   "cell_type": "markdown",
   "metadata": {
    "collapsed": true,
    "deletable": true,
    "editable": true
   },
   "source": [
    "## Standardized ratings for each user"
   ]
  },
  {
   "cell_type": "code",
   "execution_count": 13,
   "metadata": {
    "collapsed": true,
    "deletable": true,
    "editable": true
   },
   "outputs": [],
   "source": [
    "#Show the average ratings for each user and each movie."
   ]
  },
  {
   "cell_type": "code",
   "execution_count": 14,
   "metadata": {
    "collapsed": false,
    "deletable": true,
    "editable": true
   },
   "outputs": [
    {
     "data": {
      "text/html": [
       "<div>\n",
       "<table border=\"1\" class=\"dataframe\">\n",
       "  <thead>\n",
       "    <tr style=\"text-align: right;\">\n",
       "      <th></th>\n",
       "      <th>Get Out</th>\n",
       "      <th>Logan</th>\n",
       "      <th>Fifty Shades Darker</th>\n",
       "      <th>A Dog's Purpose</th>\n",
       "      <th>Moonlight</th>\n",
       "      <th>Fences</th>\n",
       "    </tr>\n",
       "    <tr>\n",
       "      <th>Names</th>\n",
       "      <th></th>\n",
       "      <th></th>\n",
       "      <th></th>\n",
       "      <th></th>\n",
       "      <th></th>\n",
       "      <th></th>\n",
       "    </tr>\n",
       "  </thead>\n",
       "  <tbody>\n",
       "    <tr>\n",
       "      <th>John</th>\n",
       "      <td>0.577350</td>\n",
       "      <td>0.342997</td>\n",
       "      <td>0.064216</td>\n",
       "      <td>-1.666667</td>\n",
       "      <td>1.095445</td>\n",
       "      <td>0.544331</td>\n",
       "    </tr>\n",
       "    <tr>\n",
       "      <th>Angie</th>\n",
       "      <td>-1.732051</td>\n",
       "      <td>0.000000</td>\n",
       "      <td>1.027458</td>\n",
       "      <td>0.000000</td>\n",
       "      <td>-1.034587</td>\n",
       "      <td>-1.088662</td>\n",
       "    </tr>\n",
       "    <tr>\n",
       "      <th>Terry</th>\n",
       "      <td>0.000000</td>\n",
       "      <td>-1.714986</td>\n",
       "      <td>0.706377</td>\n",
       "      <td>1.000000</td>\n",
       "      <td>0.182574</td>\n",
       "      <td>-1.088662</td>\n",
       "    </tr>\n",
       "    <tr>\n",
       "      <th>Sophie</th>\n",
       "      <td>0.577350</td>\n",
       "      <td>0.685994</td>\n",
       "      <td>-1.541187</td>\n",
       "      <td>0.333333</td>\n",
       "      <td>-1.034587</td>\n",
       "      <td>0.816497</td>\n",
       "    </tr>\n",
       "    <tr>\n",
       "      <th>Mark</th>\n",
       "      <td>0.577350</td>\n",
       "      <td>0.685994</td>\n",
       "      <td>-0.256865</td>\n",
       "      <td>0.333333</td>\n",
       "      <td>0.791155</td>\n",
       "      <td>0.816497</td>\n",
       "    </tr>\n",
       "  </tbody>\n",
       "</table>\n",
       "</div>"
      ],
      "text/plain": [
       "         Get Out     Logan  Fifty Shades Darker  A Dog's Purpose  Moonlight  \\\n",
       "Names                                                                         \n",
       "John    0.577350  0.342997             0.064216        -1.666667   1.095445   \n",
       "Angie  -1.732051  0.000000             1.027458         0.000000  -1.034587   \n",
       "Terry   0.000000 -1.714986             0.706377         1.000000   0.182574   \n",
       "Sophie  0.577350  0.685994            -1.541187         0.333333  -1.034587   \n",
       "Mark    0.577350  0.685994            -0.256865         0.333333   0.791155   \n",
       "\n",
       "          Fences  \n",
       "Names             \n",
       "John    0.544331  \n",
       "Angie  -1.088662  \n",
       "Terry  -1.088662  \n",
       "Sophie  0.816497  \n",
       "Mark    0.816497  "
      ]
     },
     "execution_count": 14,
     "metadata": {},
     "output_type": "execute_result"
    }
   ],
   "source": [
    "movies_std = (moviesfilled - moviesfilled.mean()) / (moviesfilled.std())\n",
    "movies_std"
   ]
  },
  {
   "cell_type": "code",
   "execution_count": null,
   "metadata": {
    "collapsed": true
   },
   "outputs": [],
   "source": []
  }
 ],
 "metadata": {
  "anaconda-cloud": {},
  "kernelspec": {
   "display_name": "Python 2",
   "language": "python",
   "name": "python2"
  },
  "language_info": {
   "codemirror_mode": {
    "name": "ipython",
    "version": 2
   },
   "file_extension": ".py",
   "mimetype": "text/x-python",
   "name": "python",
   "nbconvert_exporter": "python",
   "pygments_lexer": "ipython2",
   "version": "2.7.13"
  }
 },
 "nbformat": 4,
 "nbformat_minor": 1
}
